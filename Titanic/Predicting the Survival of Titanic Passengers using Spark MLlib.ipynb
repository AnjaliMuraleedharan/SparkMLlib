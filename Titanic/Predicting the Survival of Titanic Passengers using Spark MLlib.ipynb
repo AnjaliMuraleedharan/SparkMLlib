{
 "cells": [
  {
   "cell_type": "code",
   "execution_count": 1,
   "metadata": {},
   "outputs": [],
   "source": [
    "import findspark"
   ]
  },
  {
   "cell_type": "code",
   "execution_count": 2,
   "metadata": {},
   "outputs": [],
   "source": [
    "findspark.init(\"/home/hp/spark-3.0.0-bin-hadoop2.7\") "
   ]
  },
  {
   "cell_type": "code",
   "execution_count": 3,
   "metadata": {},
   "outputs": [],
   "source": [
    "import pyspark"
   ]
  },
  {
   "cell_type": "code",
   "execution_count": 4,
   "metadata": {},
   "outputs": [],
   "source": [
    "from pyspark.sql import SparkSession\n",
    "from pyspark.sql.functions import *\n",
    "from pyspark.ml.feature import OneHotEncoder, StringIndexer, VectorAssembler\n",
    "from pyspark.sql.types import *\n",
    "from pyspark.ml import Pipeline\n",
    "from pyspark.ml.evaluation import MulticlassClassificationEvaluator\n",
    "from pyspark.mllib.evaluation import MulticlassMetrics\n",
    "from pyspark.ml.classification import LogisticRegression\n",
    "from pyspark.ml.classification import DecisionTreeClassifier\n",
    "from pyspark.ml.classification import RandomForestClassifier\n",
    "from pyspark.ml.classification import NaiveBayes\n",
    "from pyspark.ml.classification import LinearSVC\n",
    "\n"
   ]
  },
  {
   "cell_type": "code",
   "execution_count": 5,
   "metadata": {},
   "outputs": [],
   "source": [
    "spark = SparkSession.builder.master('local').appName(\"titanic\").getOrCreate()"
   ]
  },
  {
   "cell_type": "markdown",
   "metadata": {},
   "source": [
    "# Loading the data"
   ]
  },
  {
   "cell_type": "code",
   "execution_count": 6,
   "metadata": {},
   "outputs": [],
   "source": [
    "titanic_df = spark.read.csv('/home/hp/sparkmllib/titanic.csv', header=True,inferSchema=True )"
   ]
  },
  {
   "cell_type": "code",
   "execution_count": 7,
   "metadata": {},
   "outputs": [
    {
     "name": "stdout",
     "output_type": "stream",
     "text": [
      "+-----------+--------+------+--------------------+------+----+-----+-----+----------------+-------+-----+--------+\n",
      "|PassengerId|Survived|Pclass|                Name|   Sex| Age|SibSp|Parch|          Ticket|   Fare|Cabin|Embarked|\n",
      "+-----------+--------+------+--------------------+------+----+-----+-----+----------------+-------+-----+--------+\n",
      "|          1|       0|     3|Braund, Mr. Owen ...|  male|22.0|    1|    0|       A/5 21171|   7.25| null|       S|\n",
      "|          2|       1|     1|Cumings, Mrs. Joh...|female|38.0|    1|    0|        PC 17599|71.2833|  C85|       C|\n",
      "|          3|       1|     3|Heikkinen, Miss. ...|female|26.0|    0|    0|STON/O2. 3101282|  7.925| null|       S|\n",
      "|          4|       1|     1|Futrelle, Mrs. Ja...|female|35.0|    1|    0|          113803|   53.1| C123|       S|\n",
      "|          5|       0|     3|Allen, Mr. Willia...|  male|35.0|    0|    0|          373450|   8.05| null|       S|\n",
      "|          6|       0|     3|    Moran, Mr. James|  male|null|    0|    0|          330877| 8.4583| null|       Q|\n",
      "|          7|       0|     1|McCarthy, Mr. Tim...|  male|54.0|    0|    0|           17463|51.8625|  E46|       S|\n",
      "|          8|       0|     3|Palsson, Master. ...|  male| 2.0|    3|    1|          349909| 21.075| null|       S|\n",
      "|          9|       1|     3|Johnson, Mrs. Osc...|female|27.0|    0|    2|          347742|11.1333| null|       S|\n",
      "|         10|       1|     2|Nasser, Mrs. Nich...|female|14.0|    1|    0|          237736|30.0708| null|       C|\n",
      "|         11|       1|     3|Sandstrom, Miss. ...|female| 4.0|    1|    1|         PP 9549|   16.7|   G6|       S|\n",
      "|         12|       1|     1|Bonnell, Miss. El...|female|58.0|    0|    0|          113783|  26.55| C103|       S|\n",
      "|         13|       0|     3|Saundercock, Mr. ...|  male|20.0|    0|    0|       A/5. 2151|   8.05| null|       S|\n",
      "|         14|       0|     3|Andersson, Mr. An...|  male|39.0|    1|    5|          347082| 31.275| null|       S|\n",
      "|         15|       0|     3|Vestrom, Miss. Hu...|female|14.0|    0|    0|          350406| 7.8542| null|       S|\n",
      "|         16|       1|     2|Hewlett, Mrs. (Ma...|female|55.0|    0|    0|          248706|   16.0| null|       S|\n",
      "|         17|       0|     3|Rice, Master. Eugene|  male| 2.0|    4|    1|          382652| 29.125| null|       Q|\n",
      "|         18|       1|     2|Williams, Mr. Cha...|  male|null|    0|    0|          244373|   13.0| null|       S|\n",
      "|         19|       0|     3|Vander Planke, Mr...|female|31.0|    1|    0|          345763|   18.0| null|       S|\n",
      "|         20|       1|     3|Masselmani, Mrs. ...|female|null|    0|    0|            2649|  7.225| null|       C|\n",
      "+-----------+--------+------+--------------------+------+----+-----+-----+----------------+-------+-----+--------+\n",
      "only showing top 20 rows\n",
      "\n"
     ]
    }
   ],
   "source": [
    "titanic_df.show()"
   ]
  },
  {
   "cell_type": "code",
   "execution_count": 8,
   "metadata": {},
   "outputs": [
    {
     "name": "stdout",
     "output_type": "stream",
     "text": [
      "891\n"
     ]
    }
   ],
   "source": [
    "print(titanic_df.count())"
   ]
  },
  {
   "cell_type": "code",
   "execution_count": 9,
   "metadata": {},
   "outputs": [
    {
     "name": "stdout",
     "output_type": "stream",
     "text": [
      "root\n",
      " |-- PassengerId: integer (nullable = true)\n",
      " |-- Survived: integer (nullable = true)\n",
      " |-- Pclass: integer (nullable = true)\n",
      " |-- Name: string (nullable = true)\n",
      " |-- Sex: string (nullable = true)\n",
      " |-- Age: double (nullable = true)\n",
      " |-- SibSp: integer (nullable = true)\n",
      " |-- Parch: integer (nullable = true)\n",
      " |-- Ticket: string (nullable = true)\n",
      " |-- Fare: double (nullable = true)\n",
      " |-- Cabin: string (nullable = true)\n",
      " |-- Embarked: string (nullable = true)\n",
      "\n"
     ]
    }
   ],
   "source": [
    "titanic_df.printSchema()"
   ]
  },
  {
   "cell_type": "markdown",
   "metadata": {},
   "source": [
    "# Checking for missing values"
   ]
  },
  {
   "cell_type": "code",
   "execution_count": 10,
   "metadata": {},
   "outputs": [
    {
     "name": "stdout",
     "output_type": "stream",
     "text": [
      "PassengerId 0\n",
      "Survived 0\n",
      "Pclass 0\n",
      "Name 0\n",
      "Sex 0\n",
      "Age 177\n",
      "SibSp 0\n",
      "Parch 0\n",
      "Ticket 0\n",
      "Fare 0\n",
      "Cabin 687\n",
      "Embarked 2\n"
     ]
    }
   ],
   "source": [
    "for c in titanic_df.columns:\n",
    "    print(c,titanic_df.filter(col(c).isNull()).count())"
   ]
  },
  {
   "cell_type": "code",
   "execution_count": 11,
   "metadata": {},
   "outputs": [
    {
     "name": "stdout",
     "output_type": "stream",
     "text": [
      "S\n"
     ]
    }
   ],
   "source": [
    "mode_embarked=titanic_df.groupBy('Embarked').count().orderBy('count',ascending=False).first()[0]\n",
    "print(mode_embarked)"
   ]
  },
  {
   "cell_type": "code",
   "execution_count": 12,
   "metadata": {},
   "outputs": [
    {
     "name": "stdout",
     "output_type": "stream",
     "text": [
      "29\n"
     ]
    }
   ],
   "source": [
    "age_mean=titanic_df.select(mean('Age')).first()[0]\n",
    "print(int(age_mean))"
   ]
  },
  {
   "cell_type": "markdown",
   "metadata": {},
   "source": [
    "# Imputation of Missing Values"
   ]
  },
  {
   "cell_type": "code",
   "execution_count": 13,
   "metadata": {},
   "outputs": [],
   "source": [
    "titanic_df=titanic_df.fillna({'Age':int(age_mean),'Embarked':mode_embarked})\n"
   ]
  },
  {
   "cell_type": "code",
   "execution_count": 14,
   "metadata": {},
   "outputs": [
    {
     "name": "stdout",
     "output_type": "stream",
     "text": [
      "PassengerId 0\n",
      "Survived 0\n",
      "Pclass 0\n",
      "Name 0\n",
      "Sex 0\n",
      "Age 0\n",
      "SibSp 0\n",
      "Parch 0\n",
      "Ticket 0\n",
      "Fare 0\n",
      "Cabin 687\n",
      "Embarked 0\n"
     ]
    }
   ],
   "source": [
    "for c in titanic_df.columns:\n",
    "    print(c,titanic_df.filter(col(c).isNull()).count())"
   ]
  },
  {
   "cell_type": "code",
   "execution_count": 15,
   "metadata": {},
   "outputs": [
    {
     "name": "stdout",
     "output_type": "stream",
     "text": [
      "+-----------+--------+------+--------------------+------+----+-----+-----+----------------+-------+--------+\n",
      "|PassengerId|Survived|Pclass|                Name|   Sex| Age|SibSp|Parch|          Ticket|   Fare|Embarked|\n",
      "+-----------+--------+------+--------------------+------+----+-----+-----+----------------+-------+--------+\n",
      "|          1|       0|     3|Braund, Mr. Owen ...|  male|22.0|    1|    0|       A/5 21171|   7.25|       S|\n",
      "|          2|       1|     1|Cumings, Mrs. Joh...|female|38.0|    1|    0|        PC 17599|71.2833|       C|\n",
      "|          3|       1|     3|Heikkinen, Miss. ...|female|26.0|    0|    0|STON/O2. 3101282|  7.925|       S|\n",
      "|          4|       1|     1|Futrelle, Mrs. Ja...|female|35.0|    1|    0|          113803|   53.1|       S|\n",
      "|          5|       0|     3|Allen, Mr. Willia...|  male|35.0|    0|    0|          373450|   8.05|       S|\n",
      "|          6|       0|     3|    Moran, Mr. James|  male|29.0|    0|    0|          330877| 8.4583|       Q|\n",
      "|          7|       0|     1|McCarthy, Mr. Tim...|  male|54.0|    0|    0|           17463|51.8625|       S|\n",
      "|          8|       0|     3|Palsson, Master. ...|  male| 2.0|    3|    1|          349909| 21.075|       S|\n",
      "|          9|       1|     3|Johnson, Mrs. Osc...|female|27.0|    0|    2|          347742|11.1333|       S|\n",
      "|         10|       1|     2|Nasser, Mrs. Nich...|female|14.0|    1|    0|          237736|30.0708|       C|\n",
      "|         11|       1|     3|Sandstrom, Miss. ...|female| 4.0|    1|    1|         PP 9549|   16.7|       S|\n",
      "|         12|       1|     1|Bonnell, Miss. El...|female|58.0|    0|    0|          113783|  26.55|       S|\n",
      "|         13|       0|     3|Saundercock, Mr. ...|  male|20.0|    0|    0|       A/5. 2151|   8.05|       S|\n",
      "|         14|       0|     3|Andersson, Mr. An...|  male|39.0|    1|    5|          347082| 31.275|       S|\n",
      "|         15|       0|     3|Vestrom, Miss. Hu...|female|14.0|    0|    0|          350406| 7.8542|       S|\n",
      "|         16|       1|     2|Hewlett, Mrs. (Ma...|female|55.0|    0|    0|          248706|   16.0|       S|\n",
      "|         17|       0|     3|Rice, Master. Eugene|  male| 2.0|    4|    1|          382652| 29.125|       Q|\n",
      "|         18|       1|     2|Williams, Mr. Cha...|  male|29.0|    0|    0|          244373|   13.0|       S|\n",
      "|         19|       0|     3|Vander Planke, Mr...|female|31.0|    1|    0|          345763|   18.0|       S|\n",
      "|         20|       1|     3|Masselmani, Mrs. ...|female|29.0|    0|    0|            2649|  7.225|       C|\n",
      "+-----------+--------+------+--------------------+------+----+-----+-----+----------------+-------+--------+\n",
      "only showing top 20 rows\n",
      "\n"
     ]
    }
   ],
   "source": [
    "titanic_df=titanic_df.drop('Cabin')\n",
    "titanic_df.show()"
   ]
  },
  {
   "cell_type": "markdown",
   "metadata": {},
   "source": [
    "# Creating a new column named Title from existing columns"
   ]
  },
  {
   "cell_type": "code",
   "execution_count": 16,
   "metadata": {},
   "outputs": [
    {
     "name": "stdout",
     "output_type": "stream",
     "text": [
      "+-----------+--------+------+--------------------+------+----+-----+-----+----------------+-------+--------+-------+\n",
      "|PassengerId|Survived|Pclass|                Name|   Sex| Age|SibSp|Parch|          Ticket|   Fare|Embarked|  Title|\n",
      "+-----------+--------+------+--------------------+------+----+-----+-----+----------------+-------+--------+-------+\n",
      "|          1|       0|     3|Braund, Mr. Owen ...|  male|22.0|    1|    0|       A/5 21171|   7.25|       S|     Mr|\n",
      "|          2|       1|     1|Cumings, Mrs. Joh...|female|38.0|    1|    0|        PC 17599|71.2833|       C|    Mrs|\n",
      "|          3|       1|     3|Heikkinen, Miss. ...|female|26.0|    0|    0|STON/O2. 3101282|  7.925|       S|   Miss|\n",
      "|          4|       1|     1|Futrelle, Mrs. Ja...|female|35.0|    1|    0|          113803|   53.1|       S|    Mrs|\n",
      "|          5|       0|     3|Allen, Mr. Willia...|  male|35.0|    0|    0|          373450|   8.05|       S|     Mr|\n",
      "|          6|       0|     3|    Moran, Mr. James|  male|29.0|    0|    0|          330877| 8.4583|       Q|     Mr|\n",
      "|          7|       0|     1|McCarthy, Mr. Tim...|  male|54.0|    0|    0|           17463|51.8625|       S|     Mr|\n",
      "|          8|       0|     3|Palsson, Master. ...|  male| 2.0|    3|    1|          349909| 21.075|       S| Master|\n",
      "|          9|       1|     3|Johnson, Mrs. Osc...|female|27.0|    0|    2|          347742|11.1333|       S|    Mrs|\n",
      "|         10|       1|     2|Nasser, Mrs. Nich...|female|14.0|    1|    0|          237736|30.0708|       C|    Mrs|\n",
      "|         11|       1|     3|Sandstrom, Miss. ...|female| 4.0|    1|    1|         PP 9549|   16.7|       S|   Miss|\n",
      "|         12|       1|     1|Bonnell, Miss. El...|female|58.0|    0|    0|          113783|  26.55|       S|   Miss|\n",
      "|         13|       0|     3|Saundercock, Mr. ...|  male|20.0|    0|    0|       A/5. 2151|   8.05|       S|     Mr|\n",
      "|         14|       0|     3|Andersson, Mr. An...|  male|39.0|    1|    5|          347082| 31.275|       S|     Mr|\n",
      "|         15|       0|     3|Vestrom, Miss. Hu...|female|14.0|    0|    0|          350406| 7.8542|       S|   Miss|\n",
      "|         16|       1|     2|Hewlett, Mrs. (Ma...|female|55.0|    0|    0|          248706|   16.0|       S|    Mrs|\n",
      "|         17|       0|     3|Rice, Master. Eugene|  male| 2.0|    4|    1|          382652| 29.125|       Q| Master|\n",
      "|         18|       1|     2|Williams, Mr. Cha...|  male|29.0|    0|    0|          244373|   13.0|       S|     Mr|\n",
      "|         19|       0|     3|Vander Planke, Mr...|female|31.0|    1|    0|          345763|   18.0|       S|    Mrs|\n",
      "|         20|       1|     3|Masselmani, Mrs. ...|female|29.0|    0|    0|            2649|  7.225|       C|    Mrs|\n",
      "+-----------+--------+------+--------------------+------+----+-----+-----+----------------+-------+--------+-------+\n",
      "only showing top 20 rows\n",
      "\n"
     ]
    }
   ],
   "source": [
    "def designation(name):\n",
    "    design = name.split(',')\n",
    "    design=design[1].split(\".\")\n",
    "    design=design[0]\n",
    "    return design\n",
    "title_extract_udf = udf(designation)\n",
    "titanic_df = titanic_df.withColumn('Title', title_extract_udf('Name'))\n",
    "titanic_df.show()"
   ]
  },
  {
   "cell_type": "code",
   "execution_count": 17,
   "metadata": {},
   "outputs": [
    {
     "name": "stdout",
     "output_type": "stream",
     "text": [
      "+-------------+-----+\n",
      "|        Title|count|\n",
      "+-------------+-----+\n",
      "|       Master|   40|\n",
      "|          Rev|    6|\n",
      "|         Capt|    1|\n",
      "|          Mrs|  125|\n",
      "|         Miss|  182|\n",
      "|         Lady|    1|\n",
      "|     Jonkheer|    1|\n",
      "|           Mr|  517|\n",
      "|          Sir|    1|\n",
      "|          Col|    2|\n",
      "| the Countess|    1|\n",
      "|         Mlle|    2|\n",
      "|           Dr|    7|\n",
      "|        Major|    2|\n",
      "|          Don|    1|\n",
      "|           Ms|    1|\n",
      "|          Mme|    1|\n",
      "+-------------+-----+\n",
      "\n"
     ]
    }
   ],
   "source": [
    "titanic_df.groupBy('Title').count().show()"
   ]
  },
  {
   "cell_type": "markdown",
   "metadata": {},
   "source": [
    "#  Converting Sex, Embarked & Title columns from string to number using StringIndexer"
   ]
  },
  {
   "cell_type": "code",
   "execution_count": 18,
   "metadata": {},
   "outputs": [],
   "source": [
    "indexers = [StringIndexer(inputCol=column, outputCol=column+\"_index\").fit(titanic_df) for column in [\"Sex\",\"Embarked\",\"Title\"]]\n",
    "pipeline = Pipeline(stages=indexers)\n",
    "titanic_df = pipeline.fit(titanic_df).transform(titanic_df)\n"
   ]
  },
  {
   "cell_type": "code",
   "execution_count": 19,
   "metadata": {},
   "outputs": [
    {
     "name": "stdout",
     "output_type": "stream",
     "text": [
      "root\n",
      " |-- PassengerId: integer (nullable = true)\n",
      " |-- Survived: integer (nullable = true)\n",
      " |-- Pclass: integer (nullable = true)\n",
      " |-- Name: string (nullable = true)\n",
      " |-- Sex: string (nullable = true)\n",
      " |-- Age: double (nullable = false)\n",
      " |-- SibSp: integer (nullable = true)\n",
      " |-- Parch: integer (nullable = true)\n",
      " |-- Ticket: string (nullable = true)\n",
      " |-- Fare: double (nullable = true)\n",
      " |-- Embarked: string (nullable = false)\n",
      " |-- Title: string (nullable = true)\n",
      " |-- Sex_index: double (nullable = false)\n",
      " |-- Embarked_index: double (nullable = false)\n",
      " |-- Title_index: double (nullable = false)\n",
      "\n"
     ]
    }
   ],
   "source": [
    "titanic_df.printSchema()"
   ]
  },
  {
   "cell_type": "markdown",
   "metadata": {},
   "source": [
    "# Drop columns which are not required\n"
   ]
  },
  {
   "cell_type": "code",
   "execution_count": 20,
   "metadata": {},
   "outputs": [],
   "source": [
    "titanic_df = titanic_df.drop(\"PassengerId\",\"Name\",\"Ticket\",\"Cabin\",\"Embarked\",\"Sex\",\"Title\")"
   ]
  },
  {
   "cell_type": "code",
   "execution_count": 21,
   "metadata": {},
   "outputs": [
    {
     "name": "stdout",
     "output_type": "stream",
     "text": [
      "+--------+------+----+-----+-----+-------+---------+--------------+-----------+\n",
      "|Survived|Pclass| Age|SibSp|Parch|   Fare|Sex_index|Embarked_index|Title_index|\n",
      "+--------+------+----+-----+-----+-------+---------+--------------+-----------+\n",
      "|       0|     3|22.0|    1|    0|   7.25|      0.0|           0.0|        0.0|\n",
      "|       1|     1|38.0|    1|    0|71.2833|      1.0|           1.0|        2.0|\n",
      "|       1|     3|26.0|    0|    0|  7.925|      1.0|           0.0|        1.0|\n",
      "|       1|     1|35.0|    1|    0|   53.1|      1.0|           0.0|        2.0|\n",
      "|       0|     3|35.0|    0|    0|   8.05|      0.0|           0.0|        0.0|\n",
      "|       0|     3|29.0|    0|    0| 8.4583|      0.0|           2.0|        0.0|\n",
      "|       0|     1|54.0|    0|    0|51.8625|      0.0|           0.0|        0.0|\n",
      "|       0|     3| 2.0|    3|    1| 21.075|      0.0|           0.0|        3.0|\n",
      "|       1|     3|27.0|    0|    2|11.1333|      1.0|           0.0|        2.0|\n",
      "|       1|     2|14.0|    1|    0|30.0708|      1.0|           1.0|        2.0|\n",
      "|       1|     3| 4.0|    1|    1|   16.7|      1.0|           0.0|        1.0|\n",
      "|       1|     1|58.0|    0|    0|  26.55|      1.0|           0.0|        1.0|\n",
      "|       0|     3|20.0|    0|    0|   8.05|      0.0|           0.0|        0.0|\n",
      "|       0|     3|39.0|    1|    5| 31.275|      0.0|           0.0|        0.0|\n",
      "|       0|     3|14.0|    0|    0| 7.8542|      1.0|           0.0|        1.0|\n",
      "|       1|     2|55.0|    0|    0|   16.0|      1.0|           0.0|        2.0|\n",
      "|       0|     3| 2.0|    4|    1| 29.125|      0.0|           2.0|        3.0|\n",
      "|       1|     2|29.0|    0|    0|   13.0|      0.0|           0.0|        0.0|\n",
      "|       0|     3|31.0|    1|    0|   18.0|      1.0|           0.0|        2.0|\n",
      "|       1|     3|29.0|    0|    0|  7.225|      1.0|           1.0|        2.0|\n",
      "+--------+------+----+-----+-----+-------+---------+--------------+-----------+\n",
      "only showing top 20 rows\n",
      "\n"
     ]
    }
   ],
   "source": [
    "titanic_df.show()"
   ]
  },
  {
   "cell_type": "markdown",
   "metadata": {},
   "source": [
    "# Convert features into vector using Vector Assembler\n",
    "\n"
   ]
  },
  {
   "cell_type": "code",
   "execution_count": 22,
   "metadata": {},
   "outputs": [],
   "source": [
    "feature = VectorAssembler(inputCols=titanic_df.columns[1:],outputCol=\"features\")\n",
    "feature_vector= feature.transform(titanic_df)\n"
   ]
  },
  {
   "cell_type": "code",
   "execution_count": 23,
   "metadata": {},
   "outputs": [
    {
     "name": "stdout",
     "output_type": "stream",
     "text": [
      "+--------+------+----+-----+-----+-------+---------+--------------+-----------+--------------------+\n",
      "|Survived|Pclass| Age|SibSp|Parch|   Fare|Sex_index|Embarked_index|Title_index|            features|\n",
      "+--------+------+----+-----+-----+-------+---------+--------------+-----------+--------------------+\n",
      "|       0|     3|22.0|    1|    0|   7.25|      0.0|           0.0|        0.0|(8,[0,1,2,4],[3.0...|\n",
      "|       1|     1|38.0|    1|    0|71.2833|      1.0|           1.0|        2.0|[1.0,38.0,1.0,0.0...|\n",
      "|       1|     3|26.0|    0|    0|  7.925|      1.0|           0.0|        1.0|[3.0,26.0,0.0,0.0...|\n",
      "|       1|     1|35.0|    1|    0|   53.1|      1.0|           0.0|        2.0|[1.0,35.0,1.0,0.0...|\n",
      "|       0|     3|35.0|    0|    0|   8.05|      0.0|           0.0|        0.0|(8,[0,1,4],[3.0,3...|\n",
      "|       0|     3|29.0|    0|    0| 8.4583|      0.0|           2.0|        0.0|(8,[0,1,4,6],[3.0...|\n",
      "|       0|     1|54.0|    0|    0|51.8625|      0.0|           0.0|        0.0|(8,[0,1,4],[1.0,5...|\n",
      "|       0|     3| 2.0|    3|    1| 21.075|      0.0|           0.0|        3.0|[3.0,2.0,3.0,1.0,...|\n",
      "|       1|     3|27.0|    0|    2|11.1333|      1.0|           0.0|        2.0|[3.0,27.0,0.0,2.0...|\n",
      "|       1|     2|14.0|    1|    0|30.0708|      1.0|           1.0|        2.0|[2.0,14.0,1.0,0.0...|\n",
      "|       1|     3| 4.0|    1|    1|   16.7|      1.0|           0.0|        1.0|[3.0,4.0,1.0,1.0,...|\n",
      "|       1|     1|58.0|    0|    0|  26.55|      1.0|           0.0|        1.0|[1.0,58.0,0.0,0.0...|\n",
      "|       0|     3|20.0|    0|    0|   8.05|      0.0|           0.0|        0.0|(8,[0,1,4],[3.0,2...|\n",
      "|       0|     3|39.0|    1|    5| 31.275|      0.0|           0.0|        0.0|[3.0,39.0,1.0,5.0...|\n",
      "|       0|     3|14.0|    0|    0| 7.8542|      1.0|           0.0|        1.0|[3.0,14.0,0.0,0.0...|\n",
      "|       1|     2|55.0|    0|    0|   16.0|      1.0|           0.0|        2.0|[2.0,55.0,0.0,0.0...|\n",
      "|       0|     3| 2.0|    4|    1| 29.125|      0.0|           2.0|        3.0|[3.0,2.0,4.0,1.0,...|\n",
      "|       1|     2|29.0|    0|    0|   13.0|      0.0|           0.0|        0.0|(8,[0,1,4],[2.0,2...|\n",
      "|       0|     3|31.0|    1|    0|   18.0|      1.0|           0.0|        2.0|[3.0,31.0,1.0,0.0...|\n",
      "|       1|     3|29.0|    0|    0|  7.225|      1.0|           1.0|        2.0|[3.0,29.0,0.0,0.0...|\n",
      "+--------+------+----+-----+-----+-------+---------+--------------+-----------+--------------------+\n",
      "only showing top 20 rows\n",
      "\n"
     ]
    }
   ],
   "source": [
    "feature_vector.show()"
   ]
  },
  {
   "cell_type": "markdown",
   "metadata": {},
   "source": [
    "# Splitting into Test and Train Data sets"
   ]
  },
  {
   "cell_type": "code",
   "execution_count": 24,
   "metadata": {},
   "outputs": [],
   "source": [
    "(trainingData, testData) = feature_vector.randomSplit([0.8, 0.2],seed = 11)\n"
   ]
  },
  {
   "cell_type": "markdown",
   "metadata": {},
   "source": [
    "# MODELLING"
   ]
  },
  {
   "cell_type": "markdown",
   "metadata": {},
   "source": [
    "# Logistic Regression"
   ]
  },
  {
   "cell_type": "code",
   "execution_count": 25,
   "metadata": {},
   "outputs": [
    {
     "name": "stdout",
     "output_type": "stream",
     "text": [
      "+----------+--------+--------------------+\n",
      "|prediction|Survived|            features|\n",
      "+----------+--------+--------------------+\n",
      "|       1.0|       0|(8,[0,1,4,6],[1.0...|\n",
      "|       1.0|       0|(8,[0,1,4,6],[1.0...|\n",
      "|       0.0|       0|(8,[0,1],[1.0,29.0])|\n",
      "|       0.0|       0|(8,[0,1],[1.0,29.0])|\n",
      "|       0.0|       0|(8,[0,1,4],[1.0,2...|\n",
      "|       0.0|       0|(8,[0,1,4],[1.0,2...|\n",
      "|       1.0|       0|(8,[0,1,4,6],[1.0...|\n",
      "|       0.0|       0|(8,[0,1,4],[1.0,2...|\n",
      "|       1.0|       0|(8,[0,1,4],[1.0,2...|\n",
      "|       0.0|       0|(8,[0,1,2,4],[1.0...|\n",
      "|       0.0|       0|(8,[0,1,2,4],[1.0...|\n",
      "|       0.0|       0|(8,[0,1,2,4],[1.0...|\n",
      "|       0.0|       0|(8,[0,1,3,4],[1.0...|\n",
      "|       0.0|       0|(8,[0,1,2,4],[1.0...|\n",
      "|       0.0|       0|(8,[0,1,4],[1.0,4...|\n",
      "|       0.0|       0|[1.0,58.0,0.0,2.0...|\n",
      "|       0.0|       0|(8,[0,1,4],[1.0,6...|\n",
      "|       0.0|       0|(8,[0,1,4],[1.0,6...|\n",
      "|       0.0|       0|(8,[0,1,4,6],[1.0...|\n",
      "|       0.0|       0|[2.0,19.0,1.0,1.0...|\n",
      "+----------+--------+--------------------+\n",
      "only showing top 20 rows\n",
      "\n"
     ]
    }
   ],
   "source": [
    "lr = LogisticRegression(labelCol=\"Survived\", featuresCol=\"features\")\n",
    "#Training algo\n",
    "lrModel = lr.fit(trainingData)\n",
    "lr_prediction = lrModel.transform(testData)\n",
    "lr_prediction.select(\"prediction\", \"Survived\", \"features\").show()\n",
    "evaluator = MulticlassClassificationEvaluator(labelCol=\"Survived\", predictionCol=\"prediction\", metricName=\"accuracy\")\n",
    "\n",
    "\n"
   ]
  },
  {
   "cell_type": "code",
   "execution_count": 26,
   "metadata": {},
   "outputs": [
    {
     "name": "stdout",
     "output_type": "stream",
     "text": [
      "Accuracy of LogisticRegression is = 0.829787\n",
      "Test Error of LogisticRegression = 0.170213 \n"
     ]
    }
   ],
   "source": [
    "lr_accuracy = evaluator.evaluate(lr_prediction)\n",
    "print(\"Accuracy of LogisticRegression is = %g\"% (lr_accuracy))\n",
    "print(\"Test Error of LogisticRegression = %g \" % (1.0 - lr_accuracy))\n"
   ]
  },
  {
   "cell_type": "markdown",
   "metadata": {},
   "source": [
    "# Decision Tree Classifier "
   ]
  },
  {
   "cell_type": "code",
   "execution_count": 27,
   "metadata": {},
   "outputs": [
    {
     "name": "stdout",
     "output_type": "stream",
     "text": [
      "+----------+--------+--------------------+\n",
      "|prediction|Survived|            features|\n",
      "+----------+--------+--------------------+\n",
      "|       0.0|       0|(8,[0,1,4,6],[1.0...|\n",
      "|       0.0|       0|(8,[0,1,4,6],[1.0...|\n",
      "|       0.0|       0|(8,[0,1],[1.0,29.0])|\n",
      "|       0.0|       0|(8,[0,1],[1.0,29.0])|\n",
      "|       0.0|       0|(8,[0,1,4],[1.0,2...|\n",
      "|       1.0|       0|(8,[0,1,4],[1.0,2...|\n",
      "|       0.0|       0|(8,[0,1,4,6],[1.0...|\n",
      "|       0.0|       0|(8,[0,1,4],[1.0,2...|\n",
      "|       0.0|       0|(8,[0,1,4],[1.0,2...|\n",
      "|       0.0|       0|(8,[0,1,2,4],[1.0...|\n",
      "|       0.0|       0|(8,[0,1,2,4],[1.0...|\n",
      "|       0.0|       0|(8,[0,1,2,4],[1.0...|\n",
      "|       0.0|       0|(8,[0,1,3,4],[1.0...|\n",
      "|       0.0|       0|(8,[0,1,2,4],[1.0...|\n",
      "|       0.0|       0|(8,[0,1,4],[1.0,4...|\n",
      "|       0.0|       0|[1.0,58.0,0.0,2.0...|\n",
      "|       1.0|       0|(8,[0,1,4],[1.0,6...|\n",
      "|       1.0|       0|(8,[0,1,4],[1.0,6...|\n",
      "|       0.0|       0|(8,[0,1,4,6],[1.0...|\n",
      "|       0.0|       0|[2.0,19.0,1.0,1.0...|\n",
      "+----------+--------+--------------------+\n",
      "only showing top 20 rows\n",
      "\n"
     ]
    }
   ],
   "source": [
    "dt = DecisionTreeClassifier(labelCol=\"Survived\", featuresCol=\"features\")\n",
    "dt_model = dt.fit(trainingData)\n",
    "dt_prediction = dt_model.transform(testData)\n",
    "dt_prediction.select(\"prediction\", \"Survived\", \"features\").show()\n"
   ]
  },
  {
   "cell_type": "code",
   "execution_count": 28,
   "metadata": {},
   "outputs": [
    {
     "name": "stdout",
     "output_type": "stream",
     "text": [
      "Accuracy of DecisionTreeClassifier is = 0.845745\n",
      "Test Error of DecisionTreeClassifier = 0.154255 \n"
     ]
    }
   ],
   "source": [
    "dt_accuracy = evaluator.evaluate(dt_prediction)\n",
    "print(\"Accuracy of DecisionTreeClassifier is = %g\"% (dt_accuracy))\n",
    "print(\"Test Error of DecisionTreeClassifier = %g \" % (1.0 - dt_accuracy))"
   ]
  },
  {
   "cell_type": "markdown",
   "metadata": {},
   "source": [
    "# Random Forest Classifier"
   ]
  },
  {
   "cell_type": "code",
   "execution_count": 29,
   "metadata": {},
   "outputs": [
    {
     "name": "stdout",
     "output_type": "stream",
     "text": [
      "+----------+--------+--------------------+\n",
      "|prediction|Survived|            features|\n",
      "+----------+--------+--------------------+\n",
      "|       0.0|       0|(8,[0,1,4,6],[1.0...|\n",
      "|       0.0|       0|(8,[0,1,4,6],[1.0...|\n",
      "|       0.0|       0|(8,[0,1],[1.0,29.0])|\n",
      "|       0.0|       0|(8,[0,1],[1.0,29.0])|\n",
      "|       0.0|       0|(8,[0,1,4],[1.0,2...|\n",
      "|       0.0|       0|(8,[0,1,4],[1.0,2...|\n",
      "|       0.0|       0|(8,[0,1,4,6],[1.0...|\n",
      "|       0.0|       0|(8,[0,1,4],[1.0,2...|\n",
      "|       0.0|       0|(8,[0,1,4],[1.0,2...|\n",
      "|       0.0|       0|(8,[0,1,2,4],[1.0...|\n",
      "|       0.0|       0|(8,[0,1,2,4],[1.0...|\n",
      "|       0.0|       0|(8,[0,1,2,4],[1.0...|\n",
      "|       0.0|       0|(8,[0,1,3,4],[1.0...|\n",
      "|       0.0|       0|(8,[0,1,2,4],[1.0...|\n",
      "|       0.0|       0|(8,[0,1,4],[1.0,4...|\n",
      "|       0.0|       0|[1.0,58.0,0.0,2.0...|\n",
      "|       0.0|       0|(8,[0,1,4],[1.0,6...|\n",
      "|       0.0|       0|(8,[0,1,4],[1.0,6...|\n",
      "|       0.0|       0|(8,[0,1,4,6],[1.0...|\n",
      "|       0.0|       0|[2.0,19.0,1.0,1.0...|\n",
      "+----------+--------+--------------------+\n",
      "only showing top 20 rows\n",
      "\n"
     ]
    }
   ],
   "source": [
    "rf = RandomForestClassifier(labelCol=\"Survived\", featuresCol=\"features\")\n",
    "rf_model = rf.fit(trainingData)\n",
    "rf_prediction = rf_model.transform(testData)\n",
    "rf_prediction.select(\"prediction\", \"Survived\", \"features\").show()\n"
   ]
  },
  {
   "cell_type": "code",
   "execution_count": 30,
   "metadata": {},
   "outputs": [
    {
     "name": "stdout",
     "output_type": "stream",
     "text": [
      "Accuracy of RandomForestClassifier is = 0.861702\n",
      "Test Error of RandomForestClassifier  = 0.138298 \n"
     ]
    }
   ],
   "source": [
    "rf_accuracy = evaluator.evaluate(rf_prediction)\n",
    "print(\"Accuracy of RandomForestClassifier is = %g\"% (rf_accuracy))\n",
    "print(\"Test Error of RandomForestClassifier  = %g \" % (1.0 - rf_accuracy))"
   ]
  },
  {
   "cell_type": "markdown",
   "metadata": {},
   "source": [
    "# Naive Bayes"
   ]
  },
  {
   "cell_type": "code",
   "execution_count": 31,
   "metadata": {},
   "outputs": [
    {
     "name": "stdout",
     "output_type": "stream",
     "text": [
      "+----------+--------+--------------------+\n",
      "|prediction|Survived|            features|\n",
      "+----------+--------+--------------------+\n",
      "|       1.0|       0|(8,[0,1,4,6],[1.0...|\n",
      "|       1.0|       0|(8,[0,1,4,6],[1.0...|\n",
      "|       0.0|       0|(8,[0,1],[1.0,29.0])|\n",
      "|       0.0|       0|(8,[0,1],[1.0,29.0])|\n",
      "|       0.0|       0|(8,[0,1,4],[1.0,2...|\n",
      "|       0.0|       0|(8,[0,1,4],[1.0,2...|\n",
      "|       0.0|       0|(8,[0,1,4,6],[1.0...|\n",
      "|       0.0|       0|(8,[0,1,4],[1.0,2...|\n",
      "|       1.0|       0|(8,[0,1,4],[1.0,2...|\n",
      "|       1.0|       0|(8,[0,1,2,4],[1.0...|\n",
      "|       1.0|       0|(8,[0,1,2,4],[1.0...|\n",
      "|       1.0|       0|(8,[0,1,2,4],[1.0...|\n",
      "|       1.0|       0|(8,[0,1,3,4],[1.0...|\n",
      "|       1.0|       0|(8,[0,1,2,4],[1.0...|\n",
      "|       0.0|       0|(8,[0,1,4],[1.0,4...|\n",
      "|       1.0|       0|[1.0,58.0,0.0,2.0...|\n",
      "|       0.0|       0|(8,[0,1,4],[1.0,6...|\n",
      "|       0.0|       0|(8,[0,1,4],[1.0,6...|\n",
      "|       0.0|       0|(8,[0,1,4,6],[1.0...|\n",
      "|       1.0|       0|[2.0,19.0,1.0,1.0...|\n",
      "+----------+--------+--------------------+\n",
      "only showing top 20 rows\n",
      "\n"
     ]
    }
   ],
   "source": [
    "nb = NaiveBayes(labelCol=\"Survived\", featuresCol=\"features\")\n",
    "nb_model = nb.fit(trainingData)\n",
    "nb_prediction = nb_model.transform(testData)\n",
    "nb_prediction.select(\"prediction\", \"Survived\", \"features\").show()\n"
   ]
  },
  {
   "cell_type": "code",
   "execution_count": 32,
   "metadata": {},
   "outputs": [
    {
     "name": "stdout",
     "output_type": "stream",
     "text": [
      "Accuracy of NaiveBayes is  = 0.734043\n",
      "Test Error of NaiveBayes  = 0.265957 \n"
     ]
    }
   ],
   "source": [
    "nb_accuracy = evaluator.evaluate(nb_prediction)\n",
    "print(\"Accuracy of NaiveBayes is  = %g\"% (nb_accuracy))\n",
    "print(\"Test Error of NaiveBayes  = %g \" % (1.0 - nb_accuracy))\n"
   ]
  },
  {
   "cell_type": "markdown",
   "metadata": {},
   "source": [
    "# Support Vector Classifier"
   ]
  },
  {
   "cell_type": "code",
   "execution_count": 33,
   "metadata": {},
   "outputs": [
    {
     "name": "stdout",
     "output_type": "stream",
     "text": [
      "+----------+--------+--------------------+\n",
      "|prediction|Survived|            features|\n",
      "+----------+--------+--------------------+\n",
      "|       0.0|       0|(8,[0,1,4,6],[1.0...|\n",
      "|       0.0|       0|(8,[0,1,4,6],[1.0...|\n",
      "|       0.0|       0|(8,[0,1],[1.0,29.0])|\n",
      "|       0.0|       0|(8,[0,1],[1.0,29.0])|\n",
      "|       0.0|       0|(8,[0,1,4],[1.0,2...|\n",
      "|       0.0|       0|(8,[0,1,4],[1.0,2...|\n",
      "|       0.0|       0|(8,[0,1,4,6],[1.0...|\n",
      "|       0.0|       0|(8,[0,1,4],[1.0,2...|\n",
      "|       0.0|       0|(8,[0,1,4],[1.0,2...|\n",
      "|       0.0|       0|(8,[0,1,2,4],[1.0...|\n",
      "|       0.0|       0|(8,[0,1,2,4],[1.0...|\n",
      "|       0.0|       0|(8,[0,1,2,4],[1.0...|\n",
      "|       0.0|       0|(8,[0,1,3,4],[1.0...|\n",
      "|       0.0|       0|(8,[0,1,2,4],[1.0...|\n",
      "|       0.0|       0|(8,[0,1,4],[1.0,4...|\n",
      "|       0.0|       0|[1.0,58.0,0.0,2.0...|\n",
      "|       0.0|       0|(8,[0,1,4],[1.0,6...|\n",
      "|       0.0|       0|(8,[0,1,4],[1.0,6...|\n",
      "|       0.0|       0|(8,[0,1,4,6],[1.0...|\n",
      "|       0.0|       0|[2.0,19.0,1.0,1.0...|\n",
      "+----------+--------+--------------------+\n",
      "only showing top 20 rows\n",
      "\n"
     ]
    }
   ],
   "source": [
    "svm = LinearSVC(labelCol=\"Survived\", featuresCol=\"features\")\n",
    "svm_model = svm.fit(trainingData)\n",
    "svm_prediction = svm_model.transform(testData)\n",
    "svm_prediction.select(\"prediction\", \"Survived\", \"features\").show()\n",
    "\n"
   ]
  },
  {
   "cell_type": "code",
   "execution_count": 34,
   "metadata": {},
   "outputs": [
    {
     "name": "stdout",
     "output_type": "stream",
     "text": [
      "Accuracy of Support Vector Machine is = 0.824468\n",
      "Test Error of Support Vector Machine = 0.175532 \n"
     ]
    }
   ],
   "source": [
    "svm_accuracy = evaluator.evaluate(svm_prediction)\n",
    "print(\"Accuracy of Support Vector Machine is = %g\"% (svm_accuracy))\n",
    "print(\"Test Error of Support Vector Machine = %g \" % (1.0 - svm_accuracy))"
   ]
  },
  {
   "cell_type": "markdown",
   "metadata": {},
   "source": [
    "# Dictionary to compare accuracies shown by the models"
   ]
  },
  {
   "cell_type": "code",
   "execution_count": 35,
   "metadata": {},
   "outputs": [
    {
     "data": {
      "text/plain": [
       "{'Accuracy of LogisticRegression is': 0.8297872340425532,\n",
       " 'Accuracy of DecisionTreeClassifier is': 0.8457446808510638,\n",
       " 'Accuracy of RandomForestClassifier is': 0.8617021276595744,\n",
       " 'Accuracy of NaiveBayes is': 0.7340425531914894,\n",
       " 'Accuracy of Support Vector Machine is': 0.824468085106383}"
      ]
     },
     "execution_count": 35,
     "metadata": {},
     "output_type": "execute_result"
    }
   ],
   "source": [
    "accuracy_dict={'Accuracy of LogisticRegression is':lr_accuracy,'Accuracy of DecisionTreeClassifier is':dt_accuracy,'Accuracy of RandomForestClassifier is':rf_accuracy,'Accuracy of NaiveBayes is':nb_accuracy,'Accuracy of Support Vector Machine is':svm_accuracy}\n",
    "accuracy_dict"
   ]
  },
  {
   "cell_type": "markdown",
   "metadata": {},
   "source": [
    "# Decision Tree Classifier has the highest accuracy. So that is selected as the final model for future predictions"
   ]
  },
  {
   "cell_type": "code",
   "execution_count": null,
   "metadata": {},
   "outputs": [],
   "source": []
  }
 ],
 "metadata": {
  "kernelspec": {
   "display_name": "Python 3",
   "language": "python",
   "name": "python3"
  },
  "language_info": {
   "codemirror_mode": {
    "name": "ipython",
    "version": 3
   },
   "file_extension": ".py",
   "mimetype": "text/x-python",
   "name": "python",
   "nbconvert_exporter": "python",
   "pygments_lexer": "ipython3",
   "version": "3.8.3"
  }
 },
 "nbformat": 4,
 "nbformat_minor": 4
}
